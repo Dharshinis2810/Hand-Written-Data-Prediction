{
  "nbformat": 4,
  "nbformat_minor": 0,
  "metadata": {
    "colab": {
      "name": "Hand Written Digit Prediction.ipynb",
      "provenance": [],
      "collapsed_sections": [],
      "authorship_tag": "ABX9TyOkrI42PNDwZcXitlmwqrbw",
      "include_colab_link": true
    },
    "kernelspec": {
      "name": "python3",
      "display_name": "Python 3"
    },
    "language_info": {
      "name": "python"
    }
  },
  "cells": [
    {
      "cell_type": "markdown",
      "metadata": {
        "id": "view-in-github",
        "colab_type": "text"
      },
      "source": [
        "<a href=\"https://colab.research.google.com/github/Dharshinis2810/Hand-Written-Data-Prediction/blob/main/Hand_Written_Digit_Prediction_RandomForestModel.ipynb\" target=\"_parent\"><img src=\"https://colab.research.google.com/assets/colab-badge.svg\" alt=\"Open In Colab\"/></a>"
      ]
    },
    {
      "cell_type": "markdown",
      "source": [
        "#**Hand Written Digit Prediction**\n",
        "\n",
        "![digits.png](data:image/png;base64,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)\n",
        "\n",
        "The digits dataset consists of 8x8 pixel images of digits. The images attribute of the dataset stores 8x8 arrays of grayscale values for each image. We will use these arrays to visualize the first 4 images. The target attribute of the dataset stores the digit each image represents"
      ],
      "metadata": {
        "id": "N6tDwRMa0vb5"
      }
    },
    {
      "cell_type": "code",
      "execution_count": 1,
      "metadata": {
        "id": "XvXnZ2sPz0WN"
      },
      "outputs": [],
      "source": [
        "import pandas as pd"
      ]
    },
    {
      "cell_type": "code",
      "source": [
        "import numpy as np"
      ],
      "metadata": {
        "id": "dabKnIW91kZR"
      },
      "execution_count": 2,
      "outputs": []
    },
    {
      "cell_type": "code",
      "source": [
        "import matplotlib.pyplot as plt"
      ],
      "metadata": {
        "id": "SCZy9tyI1lmX"
      },
      "execution_count": 3,
      "outputs": []
    },
    {
      "cell_type": "markdown",
      "source": [
        "**Import Data**"
      ],
      "metadata": {
        "id": "NxH0sJTK1ptB"
      }
    },
    {
      "cell_type": "code",
      "source": [
        "from sklearn.datasets import load_digits"
      ],
      "metadata": {
        "id": "hoHOnTjW1n4n"
      },
      "execution_count": 4,
      "outputs": []
    },
    {
      "cell_type": "code",
      "source": [
        "df=load_digits()"
      ],
      "metadata": {
        "id": "WNFfOx-91xQ4"
      },
      "execution_count": 5,
      "outputs": []
    },
    {
      "cell_type": "code",
      "source": [
        "_, axes =plt.subplots(nrows=1,ncols=10,figsize=(15,20))\n",
        "for ax, image, label in zip(axes, df.images, df.target):\n",
        "  ax.set_axis_off()\n",
        "  ax.imshow(image,cmap=plt.cm.gray_r,interpolation=\"nearest\")\n",
        "  ax.set_title(\"Training : %i\" % label)"
      ],
      "metadata": {
        "colab": {
          "base_uri": "https://localhost:8080/",
          "height": 114
        },
        "id": "fnRJlXmc1ytX",
        "outputId": "d078b946-fe79-425d-c375-443c94d90a96"
      },
      "execution_count": 13,
      "outputs": [
        {
          "output_type": "display_data",
          "data": {
            "text/plain": [
              "<Figure size 1080x1440 with 10 Axes>"
            ],
            "image/png": "[encoded data removed]"
          },
          "metadata": {
            "needs_background": "light"
          }
        }
      ]
    },
    {
      "cell_type": "code",
      "source": [
        "df.images.shape"
      ],
      "metadata": {
        "colab": {
          "base_uri": "https://localhost:8080/"
        },
        "id": "cDX8cExr2TDZ",
        "outputId": "f35f4332-7234-4ea8-fce3-a3126f6e7432"
      },
      "execution_count": 14,
      "outputs": [
        {
          "output_type": "execute_result",
          "data": {
            "text/plain": [
              "(1797, 8, 8)"
            ]
          },
          "metadata": {},
          "execution_count": 14
        }
      ]
    },
    {
      "cell_type": "code",
      "source": [
        "df.images[0]  #8x8 image"
      ],
      "metadata": {
        "colab": {
          "base_uri": "https://localhost:8080/"
        },
        "id": "IWYyJ2E43U-X",
        "outputId": "73495a4b-4007-4f23-d957-7d03733a2e72"
      },
      "execution_count": 20,
      "outputs": [
        {
          "output_type": "execute_result",
          "data": {
            "text/plain": [
              "array([[ 0.,  0.,  5., 13.,  9.,  1.,  0.,  0.],\n",
              "       [ 0.,  0., 13., 15., 10., 15.,  5.,  0.],\n",
              "       [ 0.,  3., 15.,  2.,  0., 11.,  8.,  0.],\n",
              "       [ 0.,  4., 12.,  0.,  0.,  8.,  8.,  0.],\n",
              "       [ 0.,  5.,  8.,  0.,  0.,  9.,  8.,  0.],\n",
              "       [ 0.,  4., 11.,  0.,  1., 12.,  7.,  0.],\n",
              "       [ 0.,  2., 14.,  5., 10., 12.,  0.,  0.],\n",
              "       [ 0.,  0.,  6., 13., 10.,  0.,  0.,  0.]])"
            ]
          },
          "metadata": {},
          "execution_count": 20
        }
      ]
    },
    {
      "cell_type": "code",
      "source": [
        "df.images[0].shape"
      ],
      "metadata": {
        "colab": {
          "base_uri": "https://localhost:8080/"
        },
        "id": "zp-rS98x3XC3",
        "outputId": "5582a4ce-37df-44dc-93ae-00f0a8acdb11"
      },
      "execution_count": 16,
      "outputs": [
        {
          "output_type": "execute_result",
          "data": {
            "text/plain": [
              "(8, 8)"
            ]
          },
          "metadata": {},
          "execution_count": 16
        }
      ]
    },
    {
      "cell_type": "code",
      "source": [
        "n_samples=len(df.images)"
      ],
      "metadata": {
        "id": "tThaEw-R3Zlv"
      },
      "execution_count": 17,
      "outputs": []
    },
    {
      "cell_type": "code",
      "source": [
        "data=df.images.reshape((n_samples,-1))"
      ],
      "metadata": {
        "id": "IcCtSD0e3cV3"
      },
      "execution_count": 18,
      "outputs": []
    },
    {
      "cell_type": "code",
      "source": [
        "data[0] #Flatten 1x64 image"
      ],
      "metadata": {
        "colab": {
          "base_uri": "https://localhost:8080/"
        },
        "id": "OJXbRYcP3gzQ",
        "outputId": "0d7549fc-a2d8-4c1c-ec32-991109949487"
      },
      "execution_count": 22,
      "outputs": [
        {
          "output_type": "execute_result",
          "data": {
            "text/plain": [
              "array([ 0.,  0.,  5., 13.,  9.,  1.,  0.,  0.,  0.,  0., 13., 15., 10.,\n",
              "       15.,  5.,  0.,  0.,  3., 15.,  2.,  0., 11.,  8.,  0.,  0.,  4.,\n",
              "       12.,  0.,  0.,  8.,  8.,  0.,  0.,  5.,  8.,  0.,  0.,  9.,  8.,\n",
              "        0.,  0.,  4., 11.,  0.,  1., 12.,  7.,  0.,  0.,  2., 14.,  5.,\n",
              "       10., 12.,  0.,  0.,  0.,  0.,  6., 13., 10.,  0.,  0.,  0.])"
            ]
          },
          "metadata": {},
          "execution_count": 22
        }
      ]
    },
    {
      "cell_type": "code",
      "source": [
        "data[0].shape"
      ],
      "metadata": {
        "colab": {
          "base_uri": "https://localhost:8080/"
        },
        "id": "FY_WeIFG34Rf",
        "outputId": "35ecbf47-e1f7-437d-8ece-128df94ba0be"
      },
      "execution_count": 23,
      "outputs": [
        {
          "output_type": "execute_result",
          "data": {
            "text/plain": [
              "(64,)"
            ]
          },
          "metadata": {},
          "execution_count": 23
        }
      ]
    },
    {
      "cell_type": "code",
      "source": [
        "data.shape"
      ],
      "metadata": {
        "colab": {
          "base_uri": "https://localhost:8080/"
        },
        "id": "m5RNFmIB39NO",
        "outputId": "1c1c5f86-2a2c-4e94-c08a-7f2cdc3ce1aa"
      },
      "execution_count": 24,
      "outputs": [
        {
          "output_type": "execute_result",
          "data": {
            "text/plain": [
              "(1797, 64)"
            ]
          },
          "metadata": {},
          "execution_count": 24
        }
      ]
    },
    {
      "cell_type": "code",
      "source": [
        "data.min()"
      ],
      "metadata": {
        "colab": {
          "base_uri": "https://localhost:8080/"
        },
        "id": "Qa7cueuJ3-UA",
        "outputId": "b88338d5-0d2c-44e9-89f5-f949ec174914"
      },
      "execution_count": 25,
      "outputs": [
        {
          "output_type": "execute_result",
          "data": {
            "text/plain": [
              "0.0"
            ]
          },
          "metadata": {},
          "execution_count": 25
        }
      ]
    },
    {
      "cell_type": "code",
      "source": [
        "data.max()"
      ],
      "metadata": {
        "colab": {
          "base_uri": "https://localhost:8080/"
        },
        "id": "OEF6UzNf4JZn",
        "outputId": "4d9bac8b-afde-466b-eceb-d2886e290c95"
      },
      "execution_count": 26,
      "outputs": [
        {
          "output_type": "execute_result",
          "data": {
            "text/plain": [
              "16.0"
            ]
          },
          "metadata": {},
          "execution_count": 26
        }
      ]
    },
    {
      "cell_type": "code",
      "source": [
        "data=data/16"
      ],
      "metadata": {
        "id": "sJgnUwgq4K6H"
      },
      "execution_count": 27,
      "outputs": []
    },
    {
      "cell_type": "code",
      "source": [
        "data.max()"
      ],
      "metadata": {
        "colab": {
          "base_uri": "https://localhost:8080/"
        },
        "id": "A3iNz_e94O83",
        "outputId": "e7e7903b-ee47-45df-f2f2-43881d315477"
      },
      "execution_count": 28,
      "outputs": [
        {
          "output_type": "execute_result",
          "data": {
            "text/plain": [
              "1.0"
            ]
          },
          "metadata": {},
          "execution_count": 28
        }
      ]
    },
    {
      "cell_type": "code",
      "source": [
        "from sklearn.model_selection import train_test_split"
      ],
      "metadata": {
        "id": "VP8JsvN24QoI"
      },
      "execution_count": 29,
      "outputs": []
    },
    {
      "cell_type": "code",
      "source": [
        "X_train, X_test, y_train, y_test=train_test_split(data,df.target,test_size=0.3)"
      ],
      "metadata": {
        "id": "92jmbbYI4gcX"
      },
      "execution_count": 69,
      "outputs": []
    },
    {
      "cell_type": "code",
      "source": [
        "X_train.shape,X_test.shape,y_train.shape,y_test.shape "
      ],
      "metadata": {
        "colab": {
          "base_uri": "https://localhost:8080/"
        },
        "id": "sXxuP6go4tDv",
        "outputId": "aa804e8a-b0d7-4a42-d50e-ae344575cdb0"
      },
      "execution_count": 70,
      "outputs": [
        {
          "output_type": "execute_result",
          "data": {
            "text/plain": [
              "((1257, 64), (540, 64), (1257,), (540,))"
            ]
          },
          "metadata": {},
          "execution_count": 70
        }
      ]
    },
    {
      "cell_type": "markdown",
      "source": [
        "Random Forest Model"
      ],
      "metadata": {
        "id": "ZIVUAX9C9HPR"
      }
    },
    {
      "cell_type": "code",
      "source": [
        "from sklearn.ensemble import RandomForestClassifier"
      ],
      "metadata": {
        "id": "tbypLMiJ5Xb_"
      },
      "execution_count": 71,
      "outputs": []
    },
    {
      "cell_type": "code",
      "source": [
        "rf=RandomForestClassifier()"
      ],
      "metadata": {
        "id": "utuRq7hR9cd_"
      },
      "execution_count": 72,
      "outputs": []
    },
    {
      "cell_type": "code",
      "source": [
        "rf.fit(X_train,y_train)"
      ],
      "metadata": {
        "colab": {
          "base_uri": "https://localhost:8080/"
        },
        "id": "NCpbNZ7x9eVm",
        "outputId": "de62814a-490b-4f4c-d5bc-00e351293dd9"
      },
      "execution_count": 73,
      "outputs": [
        {
          "output_type": "execute_result",
          "data": {
            "text/plain": [
              "RandomForestClassifier()"
            ]
          },
          "metadata": {},
          "execution_count": 73
        }
      ]
    },
    {
      "cell_type": "code",
      "source": [
        "y_pred=rf.predict(X_test)"
      ],
      "metadata": {
        "id": "JWxu6WYa9iGX"
      },
      "execution_count": 74,
      "outputs": []
    },
    {
      "cell_type": "code",
      "source": [
        "y_pred"
      ],
      "metadata": {
        "colab": {
          "base_uri": "https://localhost:8080/"
        },
        "id": "dIX4yCWm9nDG",
        "outputId": "5a0351b9-80b1-4e20-ae22-47a13a366003"
      },
      "execution_count": 75,
      "outputs": [
        {
          "output_type": "execute_result",
          "data": {
            "text/plain": [
              "array([4, 8, 8, 9, 4, 5, 6, 4, 0, 6, 7, 1, 1, 0, 2, 3, 5, 9, 1, 2, 9, 1,\n",
              "       4, 1, 1, 1, 9, 2, 5, 9, 7, 8, 2, 8, 4, 5, 8, 1, 8, 1, 9, 6, 9, 4,\n",
              "       3, 2, 4, 5, 1, 7, 2, 0, 9, 7, 1, 0, 8, 2, 4, 5, 6, 3, 2, 3, 0, 7,\n",
              "       0, 3, 4, 5, 0, 6, 0, 9, 2, 8, 6, 4, 1, 6, 7, 3, 3, 7, 8, 8, 3, 2,\n",
              "       6, 4, 7, 0, 8, 0, 5, 2, 4, 6, 1, 7, 9, 7, 4, 9, 1, 0, 5, 2, 0, 2,\n",
              "       9, 3, 8, 8, 4, 8, 2, 3, 4, 2, 3, 6, 0, 7, 8, 2, 4, 3, 4, 8, 3, 1,\n",
              "       1, 3, 1, 6, 6, 2, 8, 5, 8, 1, 1, 9, 8, 4, 5, 3, 2, 4, 3, 3, 9, 4,\n",
              "       0, 3, 7, 2, 4, 8, 5, 5, 9, 7, 1, 2, 9, 0, 8, 9, 8, 8, 6, 8, 0, 6,\n",
              "       0, 1, 1, 9, 3, 9, 5, 3, 0, 3, 1, 0, 4, 5, 7, 7, 6, 8, 6, 7, 0, 4,\n",
              "       7, 9, 5, 3, 1, 8, 6, 4, 6, 4, 3, 0, 8, 0, 4, 6, 9, 5, 1, 5, 6, 9,\n",
              "       1, 4, 7, 7, 4, 2, 3, 0, 0, 4, 0, 5, 9, 6, 5, 3, 8, 7, 6, 0, 2, 9,\n",
              "       1, 7, 8, 4, 6, 8, 4, 5, 0, 5, 8, 1, 0, 7, 3, 5, 0, 8, 3, 7, 3, 7,\n",
              "       9, 8, 6, 9, 2, 8, 7, 4, 4, 7, 8, 9, 1, 2, 7, 2, 3, 4, 4, 4, 9, 5,\n",
              "       6, 6, 3, 1, 6, 8, 8, 9, 1, 2, 2, 3, 2, 5, 4, 2, 0, 2, 3, 5, 1, 2,\n",
              "       5, 4, 9, 2, 7, 4, 0, 3, 6, 7, 9, 1, 9, 4, 0, 3, 5, 7, 5, 2, 4, 5,\n",
              "       1, 1, 1, 5, 3, 1, 7, 2, 9, 4, 6, 0, 3, 6, 1, 6, 4, 2, 7, 8, 1, 2,\n",
              "       1, 3, 8, 7, 0, 9, 9, 8, 3, 5, 3, 7, 4, 4, 1, 7, 6, 3, 0, 9, 6, 8,\n",
              "       1, 4, 2, 3, 9, 1, 4, 2, 3, 8, 2, 6, 8, 9, 3, 2, 2, 2, 4, 4, 1, 9,\n",
              "       4, 5, 6, 0, 2, 7, 6, 9, 1, 4, 9, 1, 8, 4, 5, 7, 5, 8, 8, 6, 3, 7,\n",
              "       1, 6, 4, 4, 7, 8, 3, 0, 8, 0, 2, 0, 4, 7, 9, 7, 3, 7, 0, 9, 2, 5,\n",
              "       5, 5, 3, 2, 0, 9, 1, 0, 3, 6, 3, 1, 7, 4, 2, 1, 1, 0, 5, 2, 9, 6,\n",
              "       4, 1, 7, 0, 5, 0, 6, 4, 1, 6, 1, 5, 3, 6, 1, 6, 9, 6, 1, 4, 2, 0,\n",
              "       9, 3, 8, 1, 2, 1, 4, 1, 6, 0, 9, 2, 1, 7, 6, 8, 5, 3, 7, 4, 3, 0,\n",
              "       0, 3, 2, 9, 2, 2, 5, 8, 8, 5, 0, 9, 3, 0, 7, 7, 6, 2, 9, 2, 0, 5,\n",
              "       4, 8, 7, 5, 4, 7, 0, 2, 6, 5, 6, 0])"
            ]
          },
          "metadata": {},
          "execution_count": 75
        }
      ]
    },
    {
      "cell_type": "code",
      "source": [
        "from sklearn.metrics import confusion_matrix, classification_report"
      ],
      "metadata": {
        "id": "I60AK10G9n2-"
      },
      "execution_count": 76,
      "outputs": []
    },
    {
      "cell_type": "code",
      "source": [
        "confusion_matrix(y_test, y_pred)"
      ],
      "metadata": {
        "colab": {
          "base_uri": "https://localhost:8080/"
        },
        "id": "HHfugODo9z8W",
        "outputId": "8dcc8ac7-79f6-417f-ef3e-8015e8786f76"
      },
      "execution_count": 77,
      "outputs": [
        {
          "output_type": "execute_result",
          "data": {
            "text/plain": [
              "array([[54,  0,  0,  0,  1,  0,  0,  0,  0,  0],\n",
              "       [ 0, 57,  0,  0,  0,  0,  0,  0,  0,  0],\n",
              "       [ 0,  0, 56,  1,  0,  0,  0,  0,  0,  1],\n",
              "       [ 0,  0,  0, 52,  0,  0,  0,  1,  1,  0],\n",
              "       [ 0,  0,  0,  0, 61,  0,  0,  3,  0,  1],\n",
              "       [ 0,  0,  0,  0,  1, 47,  0,  0,  0,  0],\n",
              "       [ 0,  0,  0,  0,  0,  0, 50,  0,  0,  0],\n",
              "       [ 0,  0,  0,  0,  0,  0,  0, 46,  0,  1],\n",
              "       [ 0,  3,  1,  1,  0,  0,  0,  0, 52,  0],\n",
              "       [ 0,  0,  0,  1,  0,  0,  0,  0,  0, 48]])"
            ]
          },
          "metadata": {},
          "execution_count": 77
        }
      ]
    },
    {
      "cell_type": "code",
      "source": [
        "print(classification_report(y_test,y_pred))"
      ],
      "metadata": {
        "colab": {
          "base_uri": "https://localhost:8080/"
        },
        "id": "ypLUoGG7-AdG",
        "outputId": "0a5f946a-1b66-4f33-a727-03ae0b4639ff"
      },
      "execution_count": 78,
      "outputs": [
        {
          "output_type": "stream",
          "name": "stdout",
          "text": [
            "              precision    recall  f1-score   support\n",
            "\n",
            "           0       1.00      0.98      0.99        55\n",
            "           1       0.95      1.00      0.97        57\n",
            "           2       0.98      0.97      0.97        58\n",
            "           3       0.95      0.96      0.95        54\n",
            "           4       0.97      0.94      0.95        65\n",
            "           5       1.00      0.98      0.99        48\n",
            "           6       1.00      1.00      1.00        50\n",
            "           7       0.92      0.98      0.95        47\n",
            "           8       0.98      0.91      0.95        57\n",
            "           9       0.94      0.98      0.96        49\n",
            "\n",
            "    accuracy                           0.97       540\n",
            "   macro avg       0.97      0.97      0.97       540\n",
            "weighted avg       0.97      0.97      0.97       540\n",
            "\n"
          ]
        }
      ]
    },
    {
      "cell_type": "code",
      "source": [
        ""
      ],
      "metadata": {
        "id": "eiiD4b5S-FXH"
      },
      "execution_count": null,
      "outputs": []
    }
  ]
}